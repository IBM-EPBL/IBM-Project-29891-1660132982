{
 "cells": [
  {
   "cell_type": "markdown",
   "id": "9a434cd5",
   "metadata": {},
   "source": [
    "## Import The Libraries"
   ]
  },
  {
   "cell_type": "code",
   "execution_count": 1,
   "id": "2647220a",
   "metadata": {},
   "outputs": [],
   "source": [
    "import pandas as pd\n",
    "import numpy as np\n",
    "import matplotlib.pyplot as plt"
   ]
  },
  {
   "cell_type": "markdown",
   "id": "8e809fa4",
   "metadata": {},
   "source": [
    "## Importing The Dataset"
   ]
  },
  {
   "cell_type": "code",
   "execution_count": 2,
   "id": "7d454b35",
   "metadata": {
    "scrolled": false
   },
   "outputs": [
    {
     "data": {
      "text/html": [
       "<div>\n",
       "<style scoped>\n",
       "    .dataframe tbody tr th:only-of-type {\n",
       "        vertical-align: middle;\n",
       "    }\n",
       "\n",
       "    .dataframe tbody tr th {\n",
       "        vertical-align: top;\n",
       "    }\n",
       "\n",
       "    .dataframe thead th {\n",
       "        text-align: right;\n",
       "    }\n",
       "</style>\n",
       "<table border=\"1\" class=\"dataframe\">\n",
       "  <thead>\n",
       "    <tr style=\"text-align: right;\">\n",
       "      <th></th>\n",
       "      <th>Date</th>\n",
       "      <th>Closing Value</th>\n",
       "    </tr>\n",
       "  </thead>\n",
       "  <tbody>\n",
       "    <tr>\n",
       "      <th>0</th>\n",
       "      <td>1986-01-02</td>\n",
       "      <td>25.56</td>\n",
       "    </tr>\n",
       "    <tr>\n",
       "      <th>1</th>\n",
       "      <td>1986-01-03</td>\n",
       "      <td>26.00</td>\n",
       "    </tr>\n",
       "    <tr>\n",
       "      <th>2</th>\n",
       "      <td>1986-01-06</td>\n",
       "      <td>26.53</td>\n",
       "    </tr>\n",
       "    <tr>\n",
       "      <th>3</th>\n",
       "      <td>1986-01-07</td>\n",
       "      <td>25.85</td>\n",
       "    </tr>\n",
       "    <tr>\n",
       "      <th>4</th>\n",
       "      <td>1986-01-08</td>\n",
       "      <td>25.87</td>\n",
       "    </tr>\n",
       "    <tr>\n",
       "      <th>...</th>\n",
       "      <td>...</td>\n",
       "      <td>...</td>\n",
       "    </tr>\n",
       "    <tr>\n",
       "      <th>8218</th>\n",
       "      <td>2018-07-03</td>\n",
       "      <td>74.19</td>\n",
       "    </tr>\n",
       "    <tr>\n",
       "      <th>8219</th>\n",
       "      <td>2018-07-04</td>\n",
       "      <td>NaN</td>\n",
       "    </tr>\n",
       "    <tr>\n",
       "      <th>8220</th>\n",
       "      <td>2018-07-05</td>\n",
       "      <td>73.05</td>\n",
       "    </tr>\n",
       "    <tr>\n",
       "      <th>8221</th>\n",
       "      <td>2018-07-06</td>\n",
       "      <td>73.78</td>\n",
       "    </tr>\n",
       "    <tr>\n",
       "      <th>8222</th>\n",
       "      <td>2018-07-09</td>\n",
       "      <td>73.93</td>\n",
       "    </tr>\n",
       "  </tbody>\n",
       "</table>\n",
       "<p>8223 rows × 2 columns</p>\n",
       "</div>"
      ],
      "text/plain": [
       "           Date  Closing Value\n",
       "0    1986-01-02          25.56\n",
       "1    1986-01-03          26.00\n",
       "2    1986-01-06          26.53\n",
       "3    1986-01-07          25.85\n",
       "4    1986-01-08          25.87\n",
       "...         ...            ...\n",
       "8218 2018-07-03          74.19\n",
       "8219 2018-07-04            NaN\n",
       "8220 2018-07-05          73.05\n",
       "8221 2018-07-06          73.78\n",
       "8222 2018-07-09          73.93\n",
       "\n",
       "[8223 rows x 2 columns]"
      ]
     },
     "execution_count": 2,
     "metadata": {},
     "output_type": "execute_result"
    }
   ],
   "source": [
    "data=pd.read_excel(r\"C:\\Users\\madhu suresh\\Downloads\\Crude Oil Prices Daily.xlsx\")\n",
    "data"
   ]
  },
  {
   "cell_type": "markdown",
   "id": "d0a1d5f9",
   "metadata": {},
   "source": [
    "## Handling Missing Data"
   ]
  },
  {
   "cell_type": "code",
   "execution_count": 3,
   "id": "45f1f042",
   "metadata": {
    "scrolled": true
   },
   "outputs": [
    {
     "data": {
      "text/plain": [
       "Date             False\n",
       "Closing Value     True\n",
       "dtype: bool"
      ]
     },
     "execution_count": 3,
     "metadata": {},
     "output_type": "execute_result"
    }
   ],
   "source": [
    "data.isnull().any()"
   ]
  },
  {
   "cell_type": "code",
   "execution_count": 4,
   "id": "da38fb5a",
   "metadata": {},
   "outputs": [
    {
     "data": {
      "text/plain": [
       "Date             0\n",
       "Closing Value    7\n",
       "dtype: int64"
      ]
     },
     "execution_count": 4,
     "metadata": {},
     "output_type": "execute_result"
    }
   ],
   "source": [
    "data.isnull().sum()"
   ]
  },
  {
   "cell_type": "code",
   "execution_count": 5,
   "id": "a1476519",
   "metadata": {},
   "outputs": [],
   "source": [
    "data.dropna(axis=0,inplace=True)"
   ]
  },
  {
   "cell_type": "code",
   "execution_count": 6,
   "id": "fd51a813",
   "metadata": {},
   "outputs": [
    {
     "data": {
      "text/plain": [
       "Date             0\n",
       "Closing Value    0\n",
       "dtype: int64"
      ]
     },
     "execution_count": 6,
     "metadata": {},
     "output_type": "execute_result"
    }
   ],
   "source": [
    "data.isnull().sum()"
   ]
  },
  {
   "cell_type": "code",
   "execution_count": 7,
   "id": "220be293",
   "metadata": {
    "scrolled": true
   },
   "outputs": [
    {
     "data": {
      "text/plain": [
       "0       25.56\n",
       "1       26.00\n",
       "2       26.53\n",
       "3       25.85\n",
       "4       25.87\n",
       "        ...  \n",
       "8211    73.89\n",
       "8212    74.19\n",
       "8213    73.05\n",
       "8214    73.78\n",
       "8215    73.93\n",
       "Name: Closing Value, Length: 8216, dtype: float64"
      ]
     },
     "execution_count": 7,
     "metadata": {},
     "output_type": "execute_result"
    }
   ],
   "source": [
    "data_oil=data.reset_index()['Closing Value']\n",
    "data_oil"
   ]
  },
  {
   "cell_type": "markdown",
   "id": "2608dd64",
   "metadata": {},
   "source": [
    "## Feature Scaling"
   ]
  },
  {
   "cell_type": "code",
   "execution_count": 8,
   "id": "17b40f63",
   "metadata": {},
   "outputs": [],
   "source": [
    "from sklearn.preprocessing import MinMaxScaler\n",
    "scaler=MinMaxScaler(feature_range=(0,1))\n",
    "data_oil=scaler.fit_transform(np.array(data_oil).reshape(-1,1))"
   ]
  },
  {
   "cell_type": "markdown",
   "id": "a3334517",
   "metadata": {},
   "source": [
    "## Data Visualization"
   ]
  },
  {
   "cell_type": "code",
   "execution_count": 9,
   "id": "1f5c3815",
   "metadata": {
    "scrolled": true
   },
   "outputs": [
    {
     "data": {
      "text/plain": [
       "[<matplotlib.lines.Line2D at 0x14ea403c2e0>]"
      ]
     },
     "execution_count": 9,
     "metadata": {},
     "output_type": "execute_result"
    },
    {
     "data": {
      "image/png": "[encoded data removed]",
      "text/plain": [
       "<Figure size 640x480 with 1 Axes>"
      ]
     },
     "metadata": {},
     "output_type": "display_data"
    }
   ],
   "source": [
    "plt.plot(data_oil)"
   ]
  },
  {
   "cell_type": "markdown",
   "id": "bcbfc520",
   "metadata": {},
   "source": [
    "## Splitting Data Into Train And Test "
   ]
  },
  {
   "cell_type": "code",
   "execution_count": 10,
   "id": "34ea4c47",
   "metadata": {},
   "outputs": [],
   "source": [
    "training_size=int(len(data_oil)*0.65)\n",
    "test_size=len(data_oil)-training_size\n",
    "train_data,test_data=data_oil[0:training_size:],data_oil[training_size:len(data_oil),:1]"
   ]
  },
  {
   "cell_type": "code",
   "execution_count": 11,
   "id": "6be42c66",
   "metadata": {},
   "outputs": [
    {
     "data": {
      "text/plain": [
       "(5340, 2876)"
      ]
     },
     "execution_count": 11,
     "metadata": {},
     "output_type": "execute_result"
    }
   ],
   "source": [
    "training_size,test_size"
   ]
  },
  {
   "cell_type": "code",
   "execution_count": 12,
   "id": "b6e8930e",
   "metadata": {
    "scrolled": true
   },
   "outputs": [
    {
     "data": {
      "text/plain": [
       "(5340, 1)"
      ]
     },
     "execution_count": 12,
     "metadata": {},
     "output_type": "execute_result"
    }
   ],
   "source": [
    "train_data.shape"
   ]
  },
  {
   "cell_type": "markdown",
   "id": "09dff13e",
   "metadata": {},
   "source": [
    "## Creating A Dataset With Sliding Windows"
   ]
  },
  {
   "cell_type": "code",
   "execution_count": 13,
   "id": "541af533",
   "metadata": {},
   "outputs": [],
   "source": [
    "def create_dataset(dataset,time_step=1):\n",
    "    dataX,dataY=[],[]\n",
    "    for i in range(len(dataset)-time_step-1):\n",
    "        a=dataset[i:(i+time_step),0]\n",
    "        dataX.append(a)\n",
    "        dataY.append(dataset[i+time_step,0])\n",
    "    return np.array(dataX),np.array(dataY)"
   ]
  },
  {
   "cell_type": "code",
   "execution_count": 14,
   "id": "40ebe9de",
   "metadata": {},
   "outputs": [],
   "source": [
    "time_step=10\n",
    "x_train,y_train=create_dataset(train_data,time_step)\n",
    "x_test,ytest=create_dataset(test_data,time_step)"
   ]
  },
  {
   "cell_type": "code",
   "execution_count": 15,
   "id": "d3b6618a",
   "metadata": {},
   "outputs": [
    {
     "name": "stdout",
     "output_type": "stream",
     "text": [
      "(2865, 10)\n",
      "(2865,)\n"
     ]
    }
   ],
   "source": [
    "print(x_test.shape)\n",
    "print(ytest.shape)"
   ]
  },
  {
   "cell_type": "code",
   "execution_count": 16,
   "id": "d136be55",
   "metadata": {},
   "outputs": [
    {
     "name": "stdout",
     "output_type": "stream",
     "text": [
      "(5329, 10)\n",
      "(5329,)\n"
     ]
    },
    {
     "data": {
      "text/plain": [
       "(None, None)"
      ]
     },
     "execution_count": 16,
     "metadata": {},
     "output_type": "execute_result"
    }
   ],
   "source": [
    "print(x_train.shape),print(y_train.shape)"
   ]
  },
  {
   "cell_type": "code",
   "execution_count": 17,
   "id": "b550c043",
   "metadata": {},
   "outputs": [
    {
     "data": {
      "text/plain": [
       "array([[0.11335703, 0.11661484, 0.12053902, ..., 0.10980305, 0.1089886 ,\n",
       "        0.11054346],\n",
       "       [0.11661484, 0.12053902, 0.11550422, ..., 0.1089886 , 0.11054346,\n",
       "        0.10165852],\n",
       "       [0.12053902, 0.11550422, 0.1156523 , ..., 0.11054346, 0.10165852,\n",
       "        0.09906708],\n",
       "       ...,\n",
       "       [0.36731823, 0.35176958, 0.36080261, ..., 0.36391234, 0.37042796,\n",
       "        0.37042796],\n",
       "       [0.35176958, 0.36080261, 0.35354657, ..., 0.37042796, 0.37042796,\n",
       "        0.37879461],\n",
       "       [0.36080261, 0.35354657, 0.35295424, ..., 0.37042796, 0.37879461,\n",
       "        0.37916482]])"
      ]
     },
     "execution_count": 17,
     "metadata": {},
     "output_type": "execute_result"
    }
   ],
   "source": [
    "x_train"
   ]
  },
  {
   "cell_type": "code",
   "execution_count": 18,
   "id": "c0c5718c",
   "metadata": {},
   "outputs": [],
   "source": [
    "x_train=x_train.reshape(x_train.shape[0],x_train.shape[1],1)\n",
    "x_test=x_test.reshape(x_test.shape[0],x_train.shape[1],1)"
   ]
  },
  {
   "cell_type": "markdown",
   "id": "3be3e27a",
   "metadata": {},
   "source": [
    "## Importing The Model Building Libraries "
   ]
  },
  {
   "cell_type": "code",
   "execution_count": 20,
   "id": "0cce3a9b",
   "metadata": {},
   "outputs": [],
   "source": [
    "from tensorflow.keras.models import Sequential\n",
    "from tensorflow.keras.layers import Dense\n",
    "from tensorflow.keras.layers import LSTM"
   ]
  },
  {
   "cell_type": "markdown",
   "id": "a8f1bd4a",
   "metadata": {},
   "source": [
    "## Initializing The Model"
   ]
  },
  {
   "cell_type": "code",
   "execution_count": 21,
   "id": "6e513e21",
   "metadata": {},
   "outputs": [],
   "source": [
    "model=Sequential()"
   ]
  },
  {
   "cell_type": "markdown",
   "id": "ed137273",
   "metadata": {},
   "source": [
    "## Adding LSTM Layers"
   ]
  },
  {
   "cell_type": "code",
   "execution_count": 22,
   "id": "60bedc9e",
   "metadata": {},
   "outputs": [],
   "source": [
    "model.add(LSTM(50,return_sequences=True,input_shape=(10,1)))\n",
    "model.add(LSTM(50,return_sequences=True))\n",
    "model.add(LSTM(50))"
   ]
  },
  {
   "cell_type": "markdown",
   "id": "9c5d4180",
   "metadata": {},
   "source": [
    "## Adding Output Layers"
   ]
  },
  {
   "cell_type": "code",
   "execution_count": 23,
   "id": "cb53bb67",
   "metadata": {},
   "outputs": [],
   "source": [
    "model.add(Dense(1))"
   ]
  },
  {
   "cell_type": "code",
   "execution_count": 24,
   "id": "fbe83f66",
   "metadata": {
    "scrolled": true
   },
   "outputs": [
    {
     "name": "stdout",
     "output_type": "stream",
     "text": [
      "Model: \"sequential\"\n",
      "_________________________________________________________________\n",
      " Layer (type)                Output Shape              Param #   \n",
      "=================================================================\n",
      " lstm (LSTM)                 (None, 10, 50)            10400     \n",
      "                                                                 \n",
      " lstm_1 (LSTM)               (None, 10, 50)            20200     \n",
      "                                                                 \n",
      " lstm_2 (LSTM)               (None, 50)                20200     \n",
      "                                                                 \n",
      " dense (Dense)               (None, 1)                 51        \n",
      "                                                                 \n",
      "=================================================================\n",
      "Total params: 50,851\n",
      "Trainable params: 50,851\n",
      "Non-trainable params: 0\n",
      "_________________________________________________________________\n"
     ]
    }
   ],
   "source": [
    "model.summary()"
   ]
  },
  {
   "cell_type": "markdown",
   "id": "830103d5",
   "metadata": {},
   "source": [
    "## Configure The Learning Process"
   ]
  },
  {
   "cell_type": "code",
   "execution_count": 25,
   "id": "bab09211",
   "metadata": {},
   "outputs": [],
   "source": [
    "model.compile(loss='mean_squared_error',optimizer='adam')"
   ]
  },
  {
   "cell_type": "markdown",
   "id": "7950ef6f",
   "metadata": {},
   "source": [
    "## Train The Model"
   ]
  },
  {
   "cell_type": "code",
   "execution_count": 26,
   "id": "46fbf5a6",
   "metadata": {
    "scrolled": false
   },
   "outputs": [
    {
     "name": "stdout",
     "output_type": "stream",
     "text": [
      "Epoch 1/50\n",
      "84/84 [==============================] - 10s 40ms/step - loss: 0.0018 - val_loss: 7.8491e-04\n",
      "Epoch 2/50\n",
      "84/84 [==============================] - 2s 23ms/step - loss: 1.2458e-04 - val_loss: 8.2808e-04\n",
      "Epoch 3/50\n",
      "84/84 [==============================] - 2s 26ms/step - loss: 1.1971e-04 - val_loss: 7.3377e-04\n",
      "Epoch 4/50\n",
      "84/84 [==============================] - 2s 22ms/step - loss: 1.2129e-04 - val_loss: 8.7799e-04\n",
      "Epoch 5/50\n",
      "84/84 [==============================] - 2s 24ms/step - loss: 1.1870e-04 - val_loss: 8.8529e-04\n",
      "Epoch 6/50\n",
      "84/84 [==============================] - 2s 26ms/step - loss: 1.2588e-04 - val_loss: 0.0010\n",
      "Epoch 7/50\n",
      "84/84 [==============================] - 2s 24ms/step - loss: 1.2309e-04 - val_loss: 0.0011\n",
      "Epoch 8/50\n",
      "84/84 [==============================] - 2s 21ms/step - loss: 1.1149e-04 - val_loss: 8.1880e-04\n",
      "Epoch 9/50\n",
      "84/84 [==============================] - 2s 19ms/step - loss: 1.1051e-04 - val_loss: 7.3024e-04\n",
      "Epoch 10/50\n",
      "84/84 [==============================] - 2s 19ms/step - loss: 1.0838e-04 - val_loss: 6.5473e-04\n",
      "Epoch 11/50\n",
      "84/84 [==============================] - 2s 19ms/step - loss: 1.2032e-04 - val_loss: 0.0016\n",
      "Epoch 12/50\n",
      "84/84 [==============================] - 2s 19ms/step - loss: 1.1879e-04 - val_loss: 6.1331e-04\n",
      "Epoch 13/50\n",
      "84/84 [==============================] - 2s 19ms/step - loss: 1.0408e-04 - val_loss: 5.8768e-04\n",
      "Epoch 14/50\n",
      "84/84 [==============================] - 2s 20ms/step - loss: 9.5711e-05 - val_loss: 5.9183e-04\n",
      "Epoch 15/50\n",
      "84/84 [==============================] - 2s 20ms/step - loss: 9.1507e-05 - val_loss: 5.4513e-04\n",
      "Epoch 16/50\n",
      "84/84 [==============================] - 2s 20ms/step - loss: 8.8257e-05 - val_loss: 6.4066e-04\n",
      "Epoch 17/50\n",
      "84/84 [==============================] - 2s 20ms/step - loss: 9.1008e-05 - val_loss: 7.0263e-04\n",
      "Epoch 18/50\n",
      "84/84 [==============================] - 2s 21ms/step - loss: 8.8793e-05 - val_loss: 4.3665e-04\n",
      "Epoch 19/50\n",
      "84/84 [==============================] - 2s 23ms/step - loss: 9.0948e-05 - val_loss: 6.0063e-04\n",
      "Epoch 20/50\n",
      "84/84 [==============================] - 2s 22ms/step - loss: 8.7479e-05 - val_loss: 6.1548e-04\n",
      "Epoch 21/50\n",
      "84/84 [==============================] - 2s 21ms/step - loss: 9.1391e-05 - val_loss: 0.0010\n",
      "Epoch 22/50\n",
      "84/84 [==============================] - 2s 21ms/step - loss: 7.4975e-05 - val_loss: 4.2512e-04\n",
      "Epoch 23/50\n",
      "84/84 [==============================] - 2s 21ms/step - loss: 9.9814e-05 - val_loss: 7.6774e-04\n",
      "Epoch 24/50\n",
      "84/84 [==============================] - 2s 22ms/step - loss: 7.7256e-05 - val_loss: 9.2345e-04\n",
      "Epoch 25/50\n",
      "84/84 [==============================] - 2s 21ms/step - loss: 7.0041e-05 - val_loss: 3.3666e-04\n",
      "Epoch 26/50\n",
      "84/84 [==============================] - 2s 24ms/step - loss: 6.2571e-05 - val_loss: 3.3346e-04\n",
      "Epoch 27/50\n",
      "84/84 [==============================] - 2s 28ms/step - loss: 6.2461e-05 - val_loss: 2.9808e-04\n",
      "Epoch 28/50\n",
      "84/84 [==============================] - 2s 24ms/step - loss: 6.3408e-05 - val_loss: 3.0581e-04\n",
      "Epoch 29/50\n",
      "84/84 [==============================] - 2s 23ms/step - loss: 6.3040e-05 - val_loss: 2.6675e-04\n",
      "Epoch 30/50\n",
      "84/84 [==============================] - 2s 23ms/step - loss: 5.8238e-05 - val_loss: 2.6790e-04\n",
      "Epoch 31/50\n",
      "84/84 [==============================] - 2s 22ms/step - loss: 5.2839e-05 - val_loss: 3.2383e-04\n",
      "Epoch 32/50\n",
      "84/84 [==============================] - 2s 22ms/step - loss: 5.5354e-05 - val_loss: 2.4147e-04\n",
      "Epoch 33/50\n",
      "84/84 [==============================] - 2s 26ms/step - loss: 5.0568e-05 - val_loss: 2.5649e-04\n",
      "Epoch 34/50\n",
      "84/84 [==============================] - 2s 24ms/step - loss: 4.8728e-05 - val_loss: 2.1842e-04\n",
      "Epoch 35/50\n",
      "84/84 [==============================] - 2s 23ms/step - loss: 4.6476e-05 - val_loss: 5.8689e-04\n",
      "Epoch 36/50\n",
      "84/84 [==============================] - 2s 21ms/step - loss: 4.6695e-05 - val_loss: 4.8287e-04\n",
      "Epoch 37/50\n",
      "84/84 [==============================] - 2s 20ms/step - loss: 4.2308e-05 - val_loss: 3.8755e-04\n",
      "Epoch 38/50\n",
      "84/84 [==============================] - 2s 20ms/step - loss: 4.2573e-05 - val_loss: 2.0293e-04\n",
      "Epoch 39/50\n",
      "84/84 [==============================] - 2s 19ms/step - loss: 4.4277e-05 - val_loss: 2.0208e-04\n",
      "Epoch 40/50\n",
      "84/84 [==============================] - 2s 19ms/step - loss: 4.1741e-05 - val_loss: 2.6171e-04\n",
      "Epoch 41/50\n",
      "84/84 [==============================] - 2s 21ms/step - loss: 4.2183e-05 - val_loss: 1.8483e-04\n",
      "Epoch 42/50\n",
      "84/84 [==============================] - 2s 21ms/step - loss: 3.6736e-05 - val_loss: 2.1604e-04\n",
      "Epoch 43/50\n",
      "84/84 [==============================] - 2s 26ms/step - loss: 3.5417e-05 - val_loss: 1.9743e-04\n",
      "Epoch 44/50\n",
      "84/84 [==============================] - 2s 28ms/step - loss: 3.7554e-05 - val_loss: 1.8170e-04\n",
      "Epoch 45/50\n",
      "84/84 [==============================] - 2s 22ms/step - loss: 3.7558e-05 - val_loss: 1.8212e-04\n",
      "Epoch 46/50\n",
      "84/84 [==============================] - 2s 21ms/step - loss: 3.6515e-05 - val_loss: 7.0041e-04\n",
      "Epoch 47/50\n",
      "84/84 [==============================] - 2s 21ms/step - loss: 3.5327e-05 - val_loss: 4.7348e-04\n",
      "Epoch 48/50\n",
      "84/84 [==============================] - 2s 20ms/step - loss: 3.4312e-05 - val_loss: 2.0132e-04\n",
      "Epoch 49/50\n",
      "84/84 [==============================] - 2s 20ms/step - loss: 3.4950e-05 - val_loss: 2.2466e-04\n",
      "Epoch 50/50\n",
      "84/84 [==============================] - 2s 21ms/step - loss: 3.2850e-05 - val_loss: 1.8159e-04\n"
     ]
    },
    {
     "data": {
      "text/plain": [
       "<keras.callbacks.History at 0x14eb447dc10>"
      ]
     },
     "execution_count": 26,
     "metadata": {},
     "output_type": "execute_result"
    }
   ],
   "source": [
    "model.fit(x_train,y_train,validation_data=(x_test,ytest),epochs=50,batch_size=64,verbose=1)"
   ]
  },
  {
   "cell_type": "markdown",
   "id": "65fa23fc",
   "metadata": {},
   "source": [
    "## Model Evaluation"
   ]
  },
  {
   "cell_type": "code",
   "execution_count": 27,
   "id": "7d31434c",
   "metadata": {},
   "outputs": [
    {
     "name": "stdout",
     "output_type": "stream",
     "text": [
      "167/167 [==============================] - 2s 5ms/step\n",
      "90/90 [==============================] - 1s 6ms/step\n"
     ]
    }
   ],
   "source": [
    "train_predict = model.predict(x_train)\n",
    "test_predict = model.predict(x_test)"
   ]
  },
  {
   "cell_type": "code",
   "execution_count": 28,
   "id": "54430a24",
   "metadata": {},
   "outputs": [],
   "source": [
    "# model evaluation\n",
    "train_predict=scaler.inverse_transform(train_predict)\n",
    "test_predict=scaler.inverse_transform(test_predict)"
   ]
  },
  {
   "cell_type": "code",
   "execution_count": 29,
   "id": "c66b95f8",
   "metadata": {
    "scrolled": true
   },
   "outputs": [
    {
     "data": {
      "text/plain": [
       "29.40603971934792"
      ]
     },
     "execution_count": 29,
     "metadata": {},
     "output_type": "execute_result"
    }
   ],
   "source": [
    "#save the model\n",
    "import math\n",
    "from sklearn.metrics import mean_squared_error\n",
    "math.sqrt(mean_squared_error(y_train,train_predict))"
   ]
  },
  {
   "cell_type": "markdown",
   "id": "fce32827",
   "metadata": {},
   "source": [
    "## Save The Model"
   ]
  },
  {
   "cell_type": "code",
   "execution_count": 30,
   "id": "ccf291ed",
   "metadata": {},
   "outputs": [],
   "source": [
    "from tensorflow.keras.models import load_model\n",
    "model.save(\"crude_oil.h5\")"
   ]
  },
  {
   "cell_type": "markdown",
   "id": "ec40dc5b",
   "metadata": {},
   "source": [
    "## Test The Model"
   ]
  },
  {
   "cell_type": "code",
   "execution_count": 31,
   "id": "7061346d",
   "metadata": {},
   "outputs": [
    {
     "data": {
      "image/png": "[encoded data removed]",
      "text/plain": [
       "<Figure size 640x480 with 1 Axes>"
      ]
     },
     "metadata": {},
     "output_type": "display_data"
    }
   ],
   "source": [
    "#test the data\n",
    "look_back=10\n",
    "trainpredictplot=np.empty_like(data_oil)\n",
    "trainpredictplot[:, :]=np.nan\n",
    "trainpredictplot[look_back:len(train_predict)+look_back, :]=train_predict\n",
    "testpredictplot=np.empty_like(data_oil)\n",
    "testpredictplot[:, :]=np.nan\n",
    "testpredictplot[len(train_predict)+(look_back*2)+1:len(data_oil)-1, :]=test_predict\n",
    "plt.plot(scaler.inverse_transform(data_oil))\n",
    "plt.plot(trainpredictplot)\n",
    "plt.plot(testpredictplot)\n",
    "plt.show()"
   ]
  },
  {
   "cell_type": "code",
   "execution_count": 32,
   "id": "ddb3f0ce",
   "metadata": {},
   "outputs": [
    {
     "data": {
      "text/plain": [
       "2876"
      ]
     },
     "execution_count": 32,
     "metadata": {},
     "output_type": "execute_result"
    }
   ],
   "source": [
    "len(test_data)"
   ]
  },
  {
   "cell_type": "code",
   "execution_count": 33,
   "id": "d742da85",
   "metadata": {},
   "outputs": [
    {
     "data": {
      "text/plain": [
       "(1, 10)"
      ]
     },
     "execution_count": 33,
     "metadata": {},
     "output_type": "execute_result"
    }
   ],
   "source": [
    "x_input=test_data[2866:].reshape(1,-1)\n",
    "x_input.shape"
   ]
  },
  {
   "cell_type": "code",
   "execution_count": 34,
   "id": "68f47f88",
   "metadata": {},
   "outputs": [],
   "source": [
    "temp_input=list(x_input)\n",
    "temp_input=temp_input[0].tolist()"
   ]
  },
  {
   "cell_type": "code",
   "execution_count": 35,
   "id": "7a56b818",
   "metadata": {},
   "outputs": [
    {
     "data": {
      "text/plain": [
       "[0.44172960165852215,\n",
       " 0.48111950244335855,\n",
       " 0.49726047682511476,\n",
       " 0.4679401747371539,\n",
       " 0.4729749740855915,\n",
       " 0.47119798608026064,\n",
       " 0.47341922108692425,\n",
       " 0.4649785280616022,\n",
       " 0.4703835332444839,\n",
       " 0.47149415074781587]"
      ]
     },
     "execution_count": 35,
     "metadata": {},
     "output_type": "execute_result"
    }
   ],
   "source": [
    "temp_input"
   ]
  },
  {
   "cell_type": "code",
   "execution_count": 36,
   "id": "55e94bc1",
   "metadata": {},
   "outputs": [
    {
     "name": "stdout",
     "output_type": "stream",
     "text": [
      "[0.47607496]\n",
      "11\n",
      "1 day input [0.4811195  0.49726048 0.46794017 0.47297497 0.47119799 0.47341922\n",
      " 0.46497853 0.47038353 0.47149415 0.47607496]\n",
      "1 day output [[0.48119003]]\n",
      "2 day input [0.49726048 0.46794017 0.47297497 0.47119799 0.47341922 0.46497853\n",
      " 0.47038353 0.47149415 0.47607496 0.48119003]\n",
      "2 day output [[0.4861873]]\n",
      "3 day input [0.46794017 0.47297497 0.47119799 0.47341922 0.46497853 0.47038353\n",
      " 0.47149415 0.47607496 0.48119003 0.48618731]\n",
      "3 day output [[0.49056533]]\n",
      "4 day input [0.47297497 0.47119799 0.47341922 0.46497853 0.47038353 0.47149415\n",
      " 0.47607496 0.48119003 0.48618731 0.49056533]\n",
      "4 day output [[0.49446633]]\n",
      "5 day input [0.47119799 0.47341922 0.46497853 0.47038353 0.47149415 0.47607496\n",
      " 0.48119003 0.48618731 0.49056533 0.49446633]\n",
      "5 day output [[0.49777645]]\n",
      "6 day input [0.47341922 0.46497853 0.47038353 0.47149415 0.47607496 0.48119003\n",
      " 0.48618731 0.49056533 0.49446633 0.49777645]\n",
      "6 day output [[0.5006322]]\n",
      "7 day input [0.46497853 0.47038353 0.47149415 0.47607496 0.48119003 0.48618731\n",
      " 0.49056533 0.49446633 0.49777645 0.50063223]\n",
      "7 day output [[0.50317526]]\n",
      "8 day input [0.47038353 0.47149415 0.47607496 0.48119003 0.48618731 0.49056533\n",
      " 0.49446633 0.49777645 0.50063223 0.50317526]\n",
      "8 day output [[0.5056825]]\n",
      "9 day input [0.47149415 0.47607496 0.48119003 0.48618731 0.49056533 0.49446633\n",
      " 0.49777645 0.50063223 0.50317526 0.50568253]\n",
      "9 day output [[0.50824463]]\n"
     ]
    }
   ],
   "source": [
    "lst_output=[]\n",
    "n_steps=10\n",
    "i=0\n",
    "while (i<10):\n",
    "    if(len(temp_input)>10):\n",
    "        x_input=np.array(temp_input[1:])\n",
    "        print(\"{} day input {}\".format(i,x_input))\n",
    "        x_input=x_input.reshape(1,-1)\n",
    "        x_input=x_input.reshape(1,n_steps,1)\n",
    "        yhat=model.predict(x_input,verbose=0)\n",
    "        print(\"{} day output {}\".format(i,yhat))\n",
    "        temp_input.extend(yhat[0].tolist())\n",
    "        temp_input=temp_input[1:]\n",
    "        lst_output.extend(yhat.tolist())\n",
    "        i=i+1\n",
    "    else:\n",
    "        x_input=x_input.reshape((1,n_steps,1))\n",
    "        yhat=model.predict(x_input,verbose=0)\n",
    "        print(yhat[0])\n",
    "        temp_input.extend(yhat[0].tolist())\n",
    "        print(len(temp_input))\n",
    "        lst_output.extend(yhat.tolist())\n",
    "        i=i+1"
   ]
  },
  {
   "cell_type": "code",
   "execution_count": 37,
   "id": "65748b64",
   "metadata": {},
   "outputs": [
    {
     "data": {
      "text/plain": [
       "8216"
      ]
     },
     "execution_count": 37,
     "metadata": {},
     "output_type": "execute_result"
    }
   ],
   "source": [
    "day_new=np.arange(1,11)\n",
    "day_pred=np.arange(11,21)\n",
    "len(data_oil)"
   ]
  },
  {
   "cell_type": "code",
   "execution_count": 38,
   "id": "1872917a",
   "metadata": {},
   "outputs": [
    {
     "data": {
      "text/plain": [
       "[<matplotlib.lines.Line2D at 0x14ec0319130>]"
      ]
     },
     "execution_count": 38,
     "metadata": {},
     "output_type": "execute_result"
    },
    {
     "data": {
      "image/png": "[encoded data removed]",
      "text/plain": [
       "<Figure size 640x480 with 1 Axes>"
      ]
     },
     "metadata": {},
     "output_type": "display_data"
    }
   ],
   "source": [
    "plt.plot(day_new,scaler.inverse_transform(data_oil[8206:]))\n",
    "plt.plot(day_pred,scaler.inverse_transform(lst_output))"
   ]
  },
  {
   "cell_type": "code",
   "execution_count": 39,
   "id": "59d09181",
   "metadata": {},
   "outputs": [
    {
     "data": {
      "text/plain": [
       "[<matplotlib.lines.Line2D at 0x14ec02b9940>]"
      ]
     },
     "execution_count": 39,
     "metadata": {},
     "output_type": "execute_result"
    },
    {
     "data": {
      "image/png": "[encoded data removed]",
      "text/plain": [
       "<Figure size 640x480 with 1 Axes>"
      ]
     },
     "metadata": {},
     "output_type": "display_data"
    }
   ],
   "source": [
    "df3=data_oil.tolist()\n",
    "df3.extend(lst_output)\n",
    "plt.plot(df3[8100:])"
   ]
  },
  {
   "cell_type": "code",
   "execution_count": 40,
   "id": "7a8a433c",
   "metadata": {},
   "outputs": [],
   "source": [
    "df3=scaler.inverse_transform(df3).tolist()"
   ]
  },
  {
   "cell_type": "code",
   "execution_count": 41,
   "id": "c8ae2f69",
   "metadata": {},
   "outputs": [
    {
     "data": {
      "text/plain": [
       "[<matplotlib.lines.Line2D at 0x14eb79e6520>]"
      ]
     },
     "execution_count": 41,
     "metadata": {},
     "output_type": "execute_result"
    },
    {
     "data": {
      "image/png": "[encoded data removed]",
      "text/plain": [
       "<Figure size 640x480 with 1 Axes>"
      ]
     },
     "metadata": {},
     "output_type": "display_data"
    }
   ],
   "source": [
    "plt.plot(df3)"
   ]
  }
 ],
 "metadata": {
  "kernelspec": {
   "display_name": "Python 3 (ipykernel)",
   "language": "python",
   "name": "python3"
  },
  "language_info": {
   "codemirror_mode": {
    "name": "ipython",
    "version": 3
   },
   "file_extension": ".py",
   "mimetype": "text/x-python",
   "name": "python",
   "nbconvert_exporter": "python",
   "pygments_lexer": "ipython3",
   "version": "3.9.13"
  }
 },
 "nbformat": 4,
 "nbformat_minor": 5
}
